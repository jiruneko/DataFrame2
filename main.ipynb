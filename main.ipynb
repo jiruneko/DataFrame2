{
 "cells": [
  {
   "cell_type": "code",
   "execution_count": 1,
   "id": "943ef397",
   "metadata": {},
   "outputs": [],
   "source": [
    "import numpy as np\n",
    "import pandas as pd"
   ]
  },
  {
   "cell_type": "code",
   "execution_count": 2,
   "id": "1ab18412",
   "metadata": {},
   "outputs": [],
   "source": [
    "df = pd.read_csv('sample1_with_index.csv')"
   ]
  },
  {
   "cell_type": "code",
   "execution_count": 3,
   "id": "5465c3fd",
   "metadata": {},
   "outputs": [
    {
     "data": {
      "text/html": [
       "<div>\n",
       "<style scoped>\n",
       "    .dataframe tbody tr th:only-of-type {\n",
       "        vertical-align: middle;\n",
       "    }\n",
       "\n",
       "    .dataframe tbody tr th {\n",
       "        vertical-align: top;\n",
       "    }\n",
       "\n",
       "    .dataframe thead th {\n",
       "        text-align: right;\n",
       "    }\n",
       "</style>\n",
       "<table border=\"1\" class=\"dataframe\">\n",
       "  <thead>\n",
       "    <tr style=\"text-align: right;\">\n",
       "      <th></th>\n",
       "      <th>Unnamed: 0</th>\n",
       "      <th>Date</th>\n",
       "      <th>Price</th>\n",
       "      <th>Quantity</th>\n",
       "      <th>Width</th>\n",
       "      <th>Height</th>\n",
       "      <th>Quality</th>\n",
       "      <th>Score</th>\n",
       "      <th>Difference</th>\n",
       "      <th>Color</th>\n",
       "      <th>Shape</th>\n",
       "    </tr>\n",
       "  </thead>\n",
       "  <tbody>\n",
       "    <tr>\n",
       "      <th>0</th>\n",
       "      <td>0</td>\n",
       "      <td>1997-07-05</td>\n",
       "      <td>2291</td>\n",
       "      <td>25</td>\n",
       "      <td>2.946650</td>\n",
       "      <td>5.305868</td>\n",
       "      <td>45.893300</td>\n",
       "      <td>52.762659</td>\n",
       "      <td>0.276266</td>\n",
       "      <td>green</td>\n",
       "      <td>triangle</td>\n",
       "    </tr>\n",
       "    <tr>\n",
       "      <th>1</th>\n",
       "      <td>1</td>\n",
       "      <td>1997-07-06</td>\n",
       "      <td>506</td>\n",
       "      <td>16</td>\n",
       "      <td>1.915208</td>\n",
       "      <td>0.679004</td>\n",
       "      <td>50.611735</td>\n",
       "      <td>31.453719</td>\n",
       "      <td>-1.854628</td>\n",
       "      <td>blue</td>\n",
       "      <td>NaN</td>\n",
       "    </tr>\n",
       "  </tbody>\n",
       "</table>\n",
       "</div>"
      ],
      "text/plain": [
       "   Unnamed: 0        Date  Price  Quantity     Width    Height    Quality  \\\n",
       "0           0  1997-07-05   2291        25  2.946650  5.305868  45.893300   \n",
       "1           1  1997-07-06    506        16  1.915208  0.679004  50.611735   \n",
       "\n",
       "       Score  Difference  Color     Shape  \n",
       "0  52.762659    0.276266  green  triangle  \n",
       "1  31.453719   -1.854628   blue       NaN  "
      ]
     },
     "execution_count": 3,
     "metadata": {},
     "output_type": "execute_result"
    }
   ],
   "source": [
    "df.head(2)"
   ]
  },
  {
   "cell_type": "code",
   "execution_count": 4,
   "id": "4770fd1a",
   "metadata": {},
   "outputs": [
    {
     "data": {
      "text/html": [
       "<div>\n",
       "<style scoped>\n",
       "    .dataframe tbody tr th:only-of-type {\n",
       "        vertical-align: middle;\n",
       "    }\n",
       "\n",
       "    .dataframe tbody tr th {\n",
       "        vertical-align: top;\n",
       "    }\n",
       "\n",
       "    .dataframe thead th {\n",
       "        text-align: right;\n",
       "    }\n",
       "</style>\n",
       "<table border=\"1\" class=\"dataframe\">\n",
       "  <thead>\n",
       "    <tr style=\"text-align: right;\">\n",
       "      <th></th>\n",
       "      <th>Date</th>\n",
       "      <th>Price</th>\n",
       "      <th>Quantity</th>\n",
       "      <th>Width</th>\n",
       "      <th>Height</th>\n",
       "      <th>Quality</th>\n",
       "      <th>Score</th>\n",
       "      <th>Difference</th>\n",
       "      <th>Color</th>\n",
       "      <th>Shape</th>\n",
       "    </tr>\n",
       "  </thead>\n",
       "  <tbody>\n",
       "    <tr>\n",
       "      <th>0</th>\n",
       "      <td>1997-07-05</td>\n",
       "      <td>2291</td>\n",
       "      <td>25</td>\n",
       "      <td>2.946650</td>\n",
       "      <td>5.305868</td>\n",
       "      <td>45.893300</td>\n",
       "      <td>52.762659</td>\n",
       "      <td>0.276266</td>\n",
       "      <td>green</td>\n",
       "      <td>triangle</td>\n",
       "    </tr>\n",
       "    <tr>\n",
       "      <th>1</th>\n",
       "      <td>1997-07-06</td>\n",
       "      <td>506</td>\n",
       "      <td>16</td>\n",
       "      <td>1.915208</td>\n",
       "      <td>0.679004</td>\n",
       "      <td>50.611735</td>\n",
       "      <td>31.453719</td>\n",
       "      <td>-1.854628</td>\n",
       "      <td>blue</td>\n",
       "      <td>NaN</td>\n",
       "    </tr>\n",
       "  </tbody>\n",
       "</table>\n",
       "</div>"
      ],
      "text/plain": [
       "         Date  Price  Quantity     Width    Height    Quality      Score  \\\n",
       "0  1997-07-05   2291        25  2.946650  5.305868  45.893300  52.762659   \n",
       "1  1997-07-06    506        16  1.915208  0.679004  50.611735  31.453719   \n",
       "\n",
       "   Difference  Color     Shape  \n",
       "0    0.276266  green  triangle  \n",
       "1   -1.854628   blue       NaN  "
      ]
     },
     "execution_count": 4,
     "metadata": {},
     "output_type": "execute_result"
    }
   ],
   "source": [
    "df = pd.read_csv('sample1_with_index.csv', index_col=0)\n",
    "df.head(2)"
   ]
  },
  {
   "cell_type": "code",
   "execution_count": 6,
   "id": "4f80a474",
   "metadata": {},
   "outputs": [
    {
     "data": {
      "text/html": [
       "<div>\n",
       "<style scoped>\n",
       "    .dataframe tbody tr th:only-of-type {\n",
       "        vertical-align: middle;\n",
       "    }\n",
       "\n",
       "    .dataframe tbody tr th {\n",
       "        vertical-align: top;\n",
       "    }\n",
       "\n",
       "    .dataframe thead th {\n",
       "        text-align: right;\n",
       "    }\n",
       "</style>\n",
       "<table border=\"1\" class=\"dataframe\">\n",
       "  <thead>\n",
       "    <tr style=\"text-align: right;\">\n",
       "      <th></th>\n",
       "      <th>Date</th>\n",
       "      <th>Price</th>\n",
       "      <th>Quantity</th>\n",
       "      <th>Width</th>\n",
       "      <th>Height</th>\n",
       "      <th>Quality</th>\n",
       "      <th>Score</th>\n",
       "      <th>Difference</th>\n",
       "      <th>Color</th>\n",
       "      <th>Shape</th>\n",
       "    </tr>\n",
       "  </thead>\n",
       "  <tbody>\n",
       "    <tr>\n",
       "      <th>0</th>\n",
       "      <td>1997-07-05</td>\n",
       "      <td>2291</td>\n",
       "      <td>25</td>\n",
       "      <td>2.946650</td>\n",
       "      <td>5.305868</td>\n",
       "      <td>45.893300</td>\n",
       "      <td>52.762659</td>\n",
       "      <td>0.276266</td>\n",
       "      <td>green</td>\n",
       "      <td>triangle</td>\n",
       "    </tr>\n",
       "    <tr>\n",
       "      <th>1</th>\n",
       "      <td>1997-07-06</td>\n",
       "      <td>506</td>\n",
       "      <td>16</td>\n",
       "      <td>1.915208</td>\n",
       "      <td>0.679004</td>\n",
       "      <td>50.611735</td>\n",
       "      <td>31.453719</td>\n",
       "      <td>-1.854628</td>\n",
       "      <td>blue</td>\n",
       "      <td>NaN</td>\n",
       "    </tr>\n",
       "  </tbody>\n",
       "</table>\n",
       "</div>"
      ],
      "text/plain": [
       "         Date  Price  Quantity     Width    Height    Quality      Score  \\\n",
       "0  1997-07-05   2291        25  2.946650  5.305868  45.893300  52.762659   \n",
       "1  1997-07-06    506        16  1.915208  0.679004  50.611735  31.453719   \n",
       "\n",
       "   Difference  Color     Shape  \n",
       "0    0.276266  green  triangle  \n",
       "1   -1.854628   blue       NaN  "
      ]
     },
     "execution_count": 6,
     "metadata": {},
     "output_type": "execute_result"
    }
   ],
   "source": [
    "df = pd.read_csv('sample1_without_index.csv')\n",
    "df.head(2)"
   ]
  },
  {
   "cell_type": "code",
   "execution_count": 9,
   "id": "04214ceb",
   "metadata": {},
   "outputs": [
    {
     "data": {
      "text/html": [
       "<div>\n",
       "<style scoped>\n",
       "    .dataframe tbody tr th:only-of-type {\n",
       "        vertical-align: middle;\n",
       "    }\n",
       "\n",
       "    .dataframe tbody tr th {\n",
       "        vertical-align: top;\n",
       "    }\n",
       "\n",
       "    .dataframe thead th {\n",
       "        text-align: right;\n",
       "    }\n",
       "</style>\n",
       "<table border=\"1\" class=\"dataframe\">\n",
       "  <thead>\n",
       "    <tr style=\"text-align: right;\">\n",
       "      <th></th>\n",
       "      <th>Date</th>\n",
       "      <th>Price</th>\n",
       "      <th>Quantity</th>\n",
       "      <th>Width</th>\n",
       "      <th>Height</th>\n",
       "      <th>Quality</th>\n",
       "      <th>Score</th>\n",
       "      <th>Difference</th>\n",
       "      <th>Color</th>\n",
       "      <th>Shape</th>\n",
       "    </tr>\n",
       "  </thead>\n",
       "  <tbody>\n",
       "    <tr>\n",
       "      <th>0</th>\n",
       "      <td>1997-07-05</td>\n",
       "      <td>2291</td>\n",
       "      <td>25</td>\n",
       "      <td>2.946650</td>\n",
       "      <td>5.305868</td>\n",
       "      <td>45.893300</td>\n",
       "      <td>52.762659</td>\n",
       "      <td>0.276266</td>\n",
       "      <td>green</td>\n",
       "      <td>triangle</td>\n",
       "    </tr>\n",
       "    <tr>\n",
       "      <th>1</th>\n",
       "      <td>1997-07-06</td>\n",
       "      <td>506</td>\n",
       "      <td>16</td>\n",
       "      <td>1.915208</td>\n",
       "      <td>0.679004</td>\n",
       "      <td>50.611735</td>\n",
       "      <td>31.453719</td>\n",
       "      <td>-1.854628</td>\n",
       "      <td>blue</td>\n",
       "      <td>NaN</td>\n",
       "    </tr>\n",
       "  </tbody>\n",
       "</table>\n",
       "</div>"
      ],
      "text/plain": [
       "        Date  Price  Quantity     Width    Height    Quality      Score  \\\n",
       "0 1997-07-05   2291        25  2.946650  5.305868  45.893300  52.762659   \n",
       "1 1997-07-06    506        16  1.915208  0.679004  50.611735  31.453719   \n",
       "\n",
       "   Difference  Color     Shape  \n",
       "0    0.276266  green  triangle  \n",
       "1   -1.854628   blue       NaN  "
      ]
     },
     "execution_count": 9,
     "metadata": {},
     "output_type": "execute_result"
    }
   ],
   "source": [
    "df_p = pd.read_pickle('sample1.pkl')\n",
    "df_p.head(2)"
   ]
  },
  {
   "cell_type": "code",
   "execution_count": 10,
   "id": "c6d2aaf8",
   "metadata": {},
   "outputs": [
    {
     "name": "stdout",
     "output_type": "stream",
     "text": [
      "<class 'pandas.core.frame.DataFrame'>\n",
      "RangeIndex: 100 entries, 0 to 99\n",
      "Data columns (total 10 columns):\n",
      " #   Column      Non-Null Count  Dtype         \n",
      "---  ------      --------------  -----         \n",
      " 0   Date        97 non-null     datetime64[ns]\n",
      " 1   Price       100 non-null    int64         \n",
      " 2   Quantity    100 non-null    int64         \n",
      " 3   Width       97 non-null     float64       \n",
      " 4   Height      97 non-null     float64       \n",
      " 5   Quality     96 non-null     float64       \n",
      " 6   Score       93 non-null     float64       \n",
      " 7   Difference  99 non-null     float64       \n",
      " 8   Color       96 non-null     object        \n",
      " 9   Shape       95 non-null     object        \n",
      "dtypes: datetime64[ns](1), float64(5), int64(2), object(2)\n",
      "memory usage: 7.9+ KB\n"
     ]
    }
   ],
   "source": [
    "df_p.info()"
   ]
  },
  {
   "cell_type": "code",
   "execution_count": 11,
   "id": "517799f5",
   "metadata": {},
   "outputs": [
    {
     "name": "stdout",
     "output_type": "stream",
     "text": [
      "<class 'pandas.core.frame.DataFrame'>\n",
      "RangeIndex: 100 entries, 0 to 99\n",
      "Data columns (total 10 columns):\n",
      " #   Column      Non-Null Count  Dtype  \n",
      "---  ------      --------------  -----  \n",
      " 0   Date        97 non-null     object \n",
      " 1   Price       100 non-null    int64  \n",
      " 2   Quantity    100 non-null    int64  \n",
      " 3   Width       97 non-null     float64\n",
      " 4   Height      97 non-null     float64\n",
      " 5   Quality     96 non-null     float64\n",
      " 6   Score       93 non-null     float64\n",
      " 7   Difference  99 non-null     float64\n",
      " 8   Color       96 non-null     object \n",
      " 9   Shape       95 non-null     object \n",
      "dtypes: float64(5), int64(2), object(3)\n",
      "memory usage: 7.9+ KB\n"
     ]
    }
   ],
   "source": [
    "df.info()"
   ]
  },
  {
   "cell_type": "code",
   "execution_count": 12,
   "id": "058213bd",
   "metadata": {},
   "outputs": [
    {
     "data": {
      "text/plain": [
       "0    1997-07-05\n",
       "1    1997-07-06\n",
       "2    1997-07-07\n",
       "3    1997-07-08\n",
       "4           NaT\n",
       "        ...    \n",
       "95   1997-10-08\n",
       "96   1997-10-09\n",
       "97   1997-10-10\n",
       "98   1997-10-11\n",
       "99   1997-10-12\n",
       "Name: Date, Length: 100, dtype: datetime64[ns]"
      ]
     },
     "execution_count": 12,
     "metadata": {},
     "output_type": "execute_result"
    }
   ],
   "source": [
    "pd.to_datetime(df['Date'])"
   ]
  },
  {
   "cell_type": "code",
   "execution_count": 13,
   "id": "572ceb7f",
   "metadata": {},
   "outputs": [
    {
     "name": "stdout",
     "output_type": "stream",
     "text": [
      "<class 'pandas.core.frame.DataFrame'>\n",
      "RangeIndex: 100 entries, 0 to 99\n",
      "Data columns (total 10 columns):\n",
      " #   Column      Non-Null Count  Dtype         \n",
      "---  ------      --------------  -----         \n",
      " 0   Date        97 non-null     datetime64[ns]\n",
      " 1   Price       100 non-null    int64         \n",
      " 2   Quantity    100 non-null    int64         \n",
      " 3   Width       97 non-null     float64       \n",
      " 4   Height      97 non-null     float64       \n",
      " 5   Quality     96 non-null     float64       \n",
      " 6   Score       93 non-null     float64       \n",
      " 7   Difference  99 non-null     float64       \n",
      " 8   Color       96 non-null     object        \n",
      " 9   Shape       95 non-null     object        \n",
      "dtypes: datetime64[ns](1), float64(5), int64(2), object(2)\n",
      "memory usage: 7.9+ KB\n"
     ]
    }
   ],
   "source": [
    "df['Date'] = pd.to_datetime(df['Date'])\n",
    "df.info()"
   ]
  },
  {
   "cell_type": "code",
   "execution_count": 15,
   "id": "40d6df8c",
   "metadata": {},
   "outputs": [
    {
     "name": "stdout",
     "output_type": "stream",
     "text": [
      "<class 'pandas.core.frame.DataFrame'>\n",
      "Int64Index: 100 entries, 0 to 99\n",
      "Data columns (total 10 columns):\n",
      " #   Column      Non-Null Count  Dtype         \n",
      "---  ------      --------------  -----         \n",
      " 0   Date        97 non-null     datetime64[ns]\n",
      " 1   Price       100 non-null    int64         \n",
      " 2   Quantity    100 non-null    int64         \n",
      " 3   Width       97 non-null     float64       \n",
      " 4   Height      97 non-null     float64       \n",
      " 5   Quality     96 non-null     float64       \n",
      " 6   Score       93 non-null     float64       \n",
      " 7   Difference  99 non-null     float64       \n",
      " 8   Color       96 non-null     object        \n",
      " 9   Shape       95 non-null     object        \n",
      "dtypes: datetime64[ns](1), float64(5), int64(2), object(2)\n",
      "memory usage: 8.6+ KB\n"
     ]
    }
   ],
   "source": [
    "pd.read_csv('sample1_with_index.csv', index_col=0, parse_dates=['Date']).info()"
   ]
  },
  {
   "cell_type": "markdown",
   "id": "7e125476",
   "metadata": {},
   "source": [
    "df['Price'][0]"
   ]
  },
  {
   "cell_type": "code",
   "execution_count": 17,
   "id": "a86396df",
   "metadata": {},
   "outputs": [
    {
     "data": {
      "text/plain": [
       "2291"
      ]
     },
     "execution_count": 17,
     "metadata": {},
     "output_type": "execute_result"
    }
   ],
   "source": [
    "df['Price'][0]"
   ]
  },
  {
   "cell_type": "code",
   "execution_count": 18,
   "id": "9175b000",
   "metadata": {},
   "outputs": [
    {
     "data": {
      "text/plain": [
       "pandas.core.series.Series"
      ]
     },
     "execution_count": 18,
     "metadata": {},
     "output_type": "execute_result"
    }
   ],
   "source": [
    "type(df['Price'])"
   ]
  },
  {
   "cell_type": "code",
   "execution_count": 19,
   "id": "43dabf30",
   "metadata": {},
   "outputs": [
    {
     "data": {
      "text/html": [
       "<div>\n",
       "<style scoped>\n",
       "    .dataframe tbody tr th:only-of-type {\n",
       "        vertical-align: middle;\n",
       "    }\n",
       "\n",
       "    .dataframe tbody tr th {\n",
       "        vertical-align: top;\n",
       "    }\n",
       "\n",
       "    .dataframe thead th {\n",
       "        text-align: right;\n",
       "    }\n",
       "</style>\n",
       "<table border=\"1\" class=\"dataframe\">\n",
       "  <thead>\n",
       "    <tr style=\"text-align: right;\">\n",
       "      <th></th>\n",
       "      <th>Date</th>\n",
       "      <th>Price</th>\n",
       "      <th>Quantity</th>\n",
       "    </tr>\n",
       "  </thead>\n",
       "  <tbody>\n",
       "    <tr>\n",
       "      <th>0</th>\n",
       "      <td>1997-07-05</td>\n",
       "      <td>2291</td>\n",
       "      <td>25</td>\n",
       "    </tr>\n",
       "    <tr>\n",
       "      <th>1</th>\n",
       "      <td>1997-07-06</td>\n",
       "      <td>506</td>\n",
       "      <td>16</td>\n",
       "    </tr>\n",
       "    <tr>\n",
       "      <th>2</th>\n",
       "      <td>1997-07-07</td>\n",
       "      <td>9629</td>\n",
       "      <td>32</td>\n",
       "    </tr>\n",
       "    <tr>\n",
       "      <th>3</th>\n",
       "      <td>1997-07-08</td>\n",
       "      <td>6161</td>\n",
       "      <td>67</td>\n",
       "    </tr>\n",
       "  </tbody>\n",
       "</table>\n",
       "</div>"
      ],
      "text/plain": [
       "        Date  Price  Quantity\n",
       "0 1997-07-05   2291        25\n",
       "1 1997-07-06    506        16\n",
       "2 1997-07-07   9629        32\n",
       "3 1997-07-08   6161        67"
      ]
     },
     "execution_count": 19,
     "metadata": {},
     "output_type": "execute_result"
    }
   ],
   "source": [
    "df.loc[0:3, 'Date' : 'Quantity']"
   ]
  },
  {
   "cell_type": "code",
   "execution_count": 20,
   "id": "e8077a72",
   "metadata": {},
   "outputs": [
    {
     "data": {
      "text/plain": [
       "1    1.915208\n",
       "3    6.375209\n",
       "5    9.456832\n",
       "Name: Width, dtype: float64"
      ]
     },
     "execution_count": 20,
     "metadata": {},
     "output_type": "execute_result"
    }
   ],
   "source": [
    "df.loc[[1, 3, 5], 'Width']"
   ]
  },
  {
   "cell_type": "code",
   "execution_count": 21,
   "id": "861cd4a2",
   "metadata": {},
   "outputs": [
    {
     "data": {
      "text/html": [
       "<div>\n",
       "<style scoped>\n",
       "    .dataframe tbody tr th:only-of-type {\n",
       "        vertical-align: middle;\n",
       "    }\n",
       "\n",
       "    .dataframe tbody tr th {\n",
       "        vertical-align: top;\n",
       "    }\n",
       "\n",
       "    .dataframe thead th {\n",
       "        text-align: right;\n",
       "    }\n",
       "</style>\n",
       "<table border=\"1\" class=\"dataframe\">\n",
       "  <thead>\n",
       "    <tr style=\"text-align: right;\">\n",
       "      <th></th>\n",
       "      <th>Date</th>\n",
       "      <th>Price</th>\n",
       "      <th>Quantity</th>\n",
       "    </tr>\n",
       "  </thead>\n",
       "  <tbody>\n",
       "    <tr>\n",
       "      <th>0</th>\n",
       "      <td>1997-07-05</td>\n",
       "      <td>2291</td>\n",
       "      <td>25</td>\n",
       "    </tr>\n",
       "    <tr>\n",
       "      <th>1</th>\n",
       "      <td>1997-07-06</td>\n",
       "      <td>506</td>\n",
       "      <td>16</td>\n",
       "    </tr>\n",
       "    <tr>\n",
       "      <th>2</th>\n",
       "      <td>1997-07-07</td>\n",
       "      <td>9629</td>\n",
       "      <td>32</td>\n",
       "    </tr>\n",
       "  </tbody>\n",
       "</table>\n",
       "</div>"
      ],
      "text/plain": [
       "        Date  Price  Quantity\n",
       "0 1997-07-05   2291        25\n",
       "1 1997-07-06    506        16\n",
       "2 1997-07-07   9629        32"
      ]
     },
     "execution_count": 21,
     "metadata": {},
     "output_type": "execute_result"
    }
   ],
   "source": [
    "df.iloc[0:3, 0:3]"
   ]
  },
  {
   "cell_type": "code",
   "execution_count": 22,
   "id": "9bcab4c6",
   "metadata": {},
   "outputs": [
    {
     "data": {
      "text/html": [
       "<div>\n",
       "<style scoped>\n",
       "    .dataframe tbody tr th:only-of-type {\n",
       "        vertical-align: middle;\n",
       "    }\n",
       "\n",
       "    .dataframe tbody tr th {\n",
       "        vertical-align: top;\n",
       "    }\n",
       "\n",
       "    .dataframe thead th {\n",
       "        text-align: right;\n",
       "    }\n",
       "</style>\n",
       "<table border=\"1\" class=\"dataframe\">\n",
       "  <thead>\n",
       "    <tr style=\"text-align: right;\">\n",
       "      <th></th>\n",
       "      <th>Height</th>\n",
       "      <th>Quality</th>\n",
       "    </tr>\n",
       "  </thead>\n",
       "  <tbody>\n",
       "    <tr>\n",
       "      <th>0</th>\n",
       "      <td>5.305868</td>\n",
       "      <td>45.893300</td>\n",
       "    </tr>\n",
       "    <tr>\n",
       "      <th>5</th>\n",
       "      <td>0.600447</td>\n",
       "      <td>53.126670</td>\n",
       "    </tr>\n",
       "    <tr>\n",
       "      <th>10</th>\n",
       "      <td>5.615089</td>\n",
       "      <td>58.913664</td>\n",
       "    </tr>\n",
       "  </tbody>\n",
       "</table>\n",
       "</div>"
      ],
      "text/plain": [
       "      Height    Quality\n",
       "0   5.305868  45.893300\n",
       "5   0.600447  53.126670\n",
       "10  5.615089  58.913664"
      ]
     },
     "execution_count": 22,
     "metadata": {},
     "output_type": "execute_result"
    }
   ],
   "source": [
    "df.iloc[[0, 5, 10], [4, 5]]"
   ]
  },
  {
   "cell_type": "code",
   "execution_count": 23,
   "id": "835b1798",
   "metadata": {},
   "outputs": [
    {
     "data": {
      "text/plain": [
       "0    green\n",
       "1     blue\n",
       "2     blue\n",
       "Name: Color, dtype: object"
      ]
     },
     "execution_count": 23,
     "metadata": {},
     "output_type": "execute_result"
    }
   ],
   "source": [
    "df.iloc[0:3, df.columns.get_loc('Color')]"
   ]
  },
  {
   "cell_type": "code",
   "execution_count": null,
   "id": "2988401e",
   "metadata": {},
   "outputs": [],
   "source": []
  }
 ],
 "metadata": {
  "kernelspec": {
   "display_name": "Python 3 (ipykernel)",
   "language": "python",
   "name": "python3"
  },
  "language_info": {
   "codemirror_mode": {
    "name": "ipython",
    "version": 3
   },
   "file_extension": ".py",
   "mimetype": "text/x-python",
   "name": "python",
   "nbconvert_exporter": "python",
   "pygments_lexer": "ipython3",
   "version": "3.9.17"
  }
 },
 "nbformat": 4,
 "nbformat_minor": 5
}
